{
 "cells": [
  {
   "cell_type": "markdown",
   "id": "d07517c1",
   "metadata": {},
   "source": [
    "# Write 20 random numbers between 0 to 100[Hi.txt]"
   ]
  },
  {
   "cell_type": "code",
   "execution_count": 53,
   "id": "c2b54442",
   "metadata": {},
   "outputs": [
    {
     "name": "stdout",
     "output_type": "stream",
     "text": [
      "None\n"
     ]
    }
   ],
   "source": [
    "import numpy as np\n",
    "\n",
    "def generate_int(n,file):\n",
    "    f = open(file,\"w\")\n",
    "    for i in range(n):\n",
    "        f.write(str(np.random.randint(100))+\"\\n\")\n",
    "    \n",
    "\n",
    "print(generate_int(20,\"Hi.txt\"))"
   ]
  },
  {
   "cell_type": "markdown",
   "id": "e1c8adfa",
   "metadata": {},
   "source": [
    "# Write 100 random numbers of Dice between 1 to 6[Dice.txt]\n",
    "\n",
    "# 3.A die was rolled 100 times and saved each outcome in a text file (dice.txt) and calculates the frequency and probability of each outcome using C++ program. (Rolling one die by choosing one of the integers 1, 2, 3, 4, 5, or 6 at random)."
   ]
  },
  {
   "cell_type": "code",
   "execution_count": 54,
   "id": "fe16b2b5",
   "metadata": {},
   "outputs": [
    {
     "name": "stdout",
     "output_type": "stream",
     "text": [
      "None\n"
     ]
    }
   ],
   "source": [
    "import numpy as np\n",
    "\n",
    "def generate_dice_data(n,file):\n",
    "    f = open(file,\"w\")\n",
    "    for i in range(n):\n",
    "        f.write(str(np.random.randint(6)+1)+\"\\n\")\n",
    "    \n",
    "\n",
    "print(generate_dice_data(100,\"Dice.txt\"))"
   ]
  },
  {
   "cell_type": "markdown",
   "id": "e918f734",
   "metadata": {},
   "source": [
    "# 1.Generate 100 random integer and 100 random floating-point numbers and save them in separate file. Write two separate functions and save integer in random-int.txt, float in random-float.txt\n"
   ]
  },
  {
   "cell_type": "markdown",
   "id": "c7ef4714",
   "metadata": {},
   "source": [
    "# int"
   ]
  },
  {
   "cell_type": "code",
   "execution_count": 55,
   "id": "035718b9",
   "metadata": {},
   "outputs": [
    {
     "name": "stdout",
     "output_type": "stream",
     "text": [
      "None\n"
     ]
    }
   ],
   "source": [
    "import numpy as np\n",
    "\n",
    "def generate_int(n,file):\n",
    "    f = open(file,\"w\")\n",
    "    for i in range(n):\n",
    "        f.write(str(np.random.randint(3000))+\"\\n\")\n",
    "    \n",
    "\n",
    "print(generate_int(100,\"random-int.txt\"))"
   ]
  },
  {
   "cell_type": "markdown",
   "id": "aba4942c",
   "metadata": {},
   "source": [
    "# float"
   ]
  },
  {
   "cell_type": "code",
   "execution_count": 56,
   "id": "37143cc5",
   "metadata": {},
   "outputs": [
    {
     "name": "stdout",
     "output_type": "stream",
     "text": [
      "None\n"
     ]
    }
   ],
   "source": [
    "import numpy as np\n",
    "\n",
    "def generate_int(n,file):\n",
    "    f = open(file,\"w\")\n",
    "    for i in range(n):\n",
    "        f.write(str(np.random.rand(50))+\"\\n\")\n",
    "    \n",
    "\n",
    "print(generate_int(2,\"random-float.txt\"))"
   ]
  },
  {
   "cell_type": "code",
   "execution_count": null,
   "id": "599544a4",
   "metadata": {},
   "outputs": [],
   "source": []
  },
  {
   "cell_type": "code",
   "execution_count": 57,
   "id": "963a8104",
   "metadata": {},
   "outputs": [
    {
     "name": "stdout",
     "output_type": "stream",
     "text": [
      "None\n"
     ]
    }
   ],
   "source": [
    "import numpy as np\n",
    "\n",
    "def generate_dice_data(n,file):\n",
    "    f = open(file,\"w\")\n",
    "    for i in range(n):\n",
    "        f.write(str(np.random.randint(6)+1)+\"\\n\")\n",
    "    \n",
    "\n",
    "print(generate_dice_data(100,\"Dice.txt\"))"
   ]
  },
  {
   "cell_type": "markdown",
   "id": "b803f5cb",
   "metadata": {},
   "source": [
    "# Read Dice data from Dice.txt"
   ]
  },
  {
   "cell_type": "code",
   "execution_count": 58,
   "id": "5a95b92e",
   "metadata": {},
   "outputs": [
    {
     "name": "stdout",
     "output_type": "stream",
     "text": [
      "[4, 6, 5, 6, 6, 6, 4, 3, 1, 4, 5, 4, 3, 3, 1, 4, 5, 2, 6, 5, 1, 5, 5, 1, 1, 1, 4, 4, 4, 2, 3, 5, 6, 1, 5, 1, 5, 6, 6, 2, 3, 5, 6, 3, 1, 3, 5, 4, 5, 1, 5, 3, 4, 6, 6, 5, 2, 5, 2, 5, 2, 4, 3, 3, 5, 3, 4, 1, 1, 2, 3, 5, 3, 3, 6, 3, 3, 6, 3, 3, 6, 4, 3, 4, 1, 1, 6, 5, 2, 6, 6, 1, 5, 5, 1, 6, 2, 3, 5, 3]\n",
      "39\n"
     ]
    }
   ],
   "source": [
    "def read_data(n,file):\n",
    "    f = open(\"Dice.txt\",\"r\")\n",
    "    l =[]\n",
    "    for line in f:\n",
    "        l.append(int(line))\n",
    "    return l\n",
    "List = read_data(100,\"Dice.txt\")\n",
    "print(List)\n",
    "Li= np.random.choice(List,10)\n",
    "print(sum(Li))\n",
    "\n"
   ]
  },
  {
   "cell_type": "markdown",
   "id": "cb9f7399",
   "metadata": {},
   "source": [
    "# Sum of List numbers"
   ]
  },
  {
   "cell_type": "code",
   "execution_count": 60,
   "id": "bcb2204c",
   "metadata": {},
   "outputs": [
    {
     "name": "stdout",
     "output_type": "stream",
     "text": [
      "[3, 4, 3, 3, 2, 5, 5, 1, 4, 1, 4, 5, 2, 6, 6, 2, 2, 6, 6, 4, 2, 5, 3, 2, 6, 5, 3, 5, 6, 2, 4, 3, 4, 3, 6, 1, 2, 3, 3, 2, 5, 6, 4, 4, 1, 3, 1, 5, 6, 1, 2, 5, 3, 4, 6, 6, 5, 4, 4, 4, 2, 3, 6, 2, 4, 5, 5, 3, 3, 3, 4, 4, 4, 3, 2, 3, 3, 6, 1, 4, 2, 2, 4, 6, 4, 6, 1, 4, 6, 6, 1, 4, 1, 6, 4, 6, 5, 4, 1, 4]\n",
      "82\n"
     ]
    }
   ],
   "source": [
    "def dice(n,k):\n",
    "    L =[]\n",
    "    Li =[]\n",
    "    for i in range(n):\n",
    "        L.append(np.random.randint(6)+1)\n",
    "        \n",
    "    Li = np.random.choice(L,k)\n",
    "    return L,sum(Li)\n",
    "List,List10 = dice(100,20)\n",
    "print(List)\n",
    "print(List10)\n"
   ]
  },
  {
   "cell_type": "code",
   "execution_count": 61,
   "id": "3b251a15",
   "metadata": {},
   "outputs": [
    {
     "name": "stdout",
     "output_type": "stream",
     "text": [
      "[1, 3, 1, 1, 4, 5, 1, 4, 2, 6, 6, 6, 3, 1, 5, 2, 2, 3, 3, 1, 2, 2, 1, 5, 6, 4, 4, 1, 5, 2, 6, 3, 1, 2, 1, 6, 3, 2, 1, 1, 6, 6, 4, 2, 3, 5, 3, 5, 4, 3, 6, 3, 4, 4, 1, 6, 6, 3, 1, 6, 2, 5, 1, 2, 3, 5, 2, 6, 3, 4, 5, 3, 3, 4, 1, 6, 3, 1, 6, 2, 3, 4, 3, 4, 4, 4, 6, 4, 2, 3, 2, 2, 1, 5, 1, 4, 2, 3, 2, 3, 4, 1, 6, 2, 4, 5, 2, 2, 2, 4, 4, 6, 1, 2, 2, 1, 2, 5, 2, 2, 5, 1, 3, 4, 6, 3, 6, 6, 3, 6, 2, 6, 3, 2, 5, 4, 1, 2, 3, 1, 2, 5, 4, 4, 4, 3, 6, 1, 6, 5, 1, 4, 4, 1, 4, 5, 5, 5, 2, 6, 5, 5, 4, 5, 2, 3, 5, 3, 4, 2, 2, 1, 6, 1, 1, 1, 4, 5, 4, 4, 2, 2, 5, 1, 3, 1, 5, 4, 2, 5, 3, 1, 1, 6, 6, 2, 2, 6, 5, 3, 4, 6, 2, 6, 6, 4, 1, 2, 2, 6, 3, 6, 5, 2, 5, 1, 6, 3, 3, 2, 5, 5, 1, 3, 3, 3, 1, 3, 3, 3, 2, 5, 2, 6, 4, 3, 1, 5, 2, 5, 6, 5, 1, 6, 6, 6, 6, 1, 1, 2, 5, 5, 5, 1, 4, 6, 4, 1, 1, 4, 4, 6, 2, 3, 4, 4, 1, 4, 5, 3, 4, 1, 6, 4, 3, 6, 1, 1, 2, 1, 6, 1, 5, 1, 2, 2, 5, 5, 2, 5, 3, 1, 2, 2, 3, 5, 4, 1, 4, 6, 2, 4, 3, 1, 2, 2, 2, 6, 1, 5, 3, 3, 6, 6, 3, 1, 1, 2, 4, 4, 2, 1, 3, 2, 4, 5, 1, 6, 6, 6, 4, 5, 5, 3, 2, 6, 4, 6, 2, 3, 2, 5, 6, 4, 6, 4, 4, 3, 4, 6, 5, 5, 1, 3, 3, 6, 3, 5, 3, 6, 2, 6, 1, 1, 6, 3, 3, 3, 3, 6, 2, 3, 1, 3, 3, 2, 4, 3, 2, 1, 1, 5, 3, 1, 4, 5, 4, 2, 5, 6, 6, 5, 1, 4, 6, 2, 6, 5, 3, 6, 2, 5, 1, 1, 5, 1, 1, 1, 3, 5, 1, 6, 4, 3, 6, 4, 5, 1, 1, 4, 6, 3, 4, 4, 2, 6, 1, 6, 3, 4, 5, 2, 5, 1, 3, 2, 4, 5, 4, 4, 5, 2, 6, 1, 4, 2, 5, 1, 4, 2, 6, 3, 1, 2, 6, 2, 6, 5, 6, 2, 6, 6, 4, 4, 6, 5, 6, 5, 4, 3, 1, 4, 5, 2, 6, 3, 6, 2, 5, 2, 4, 5, 6, 1, 4, 1, 3, 5, 5, 2, 5, 1, 2, 4, 4, 2, 1, 4, 2, 4, 2, 3, 6, 4, 3, 1, 4, 6, 3, 6, 5, 6, 2, 2, 5, 3, 3, 6, 5, 3, 6, 4, 3, 5, 6, 3, 6, 3, 2, 5, 1, 2, 5, 2, 1, 4, 3, 1, 5, 2, 2, 6, 6, 3, 6, 1, 4, 4, 1, 1, 4, 4, 5, 1, 1, 6, 4, 6, 1, 1, 6, 1, 1, 5, 2, 6, 4, 2, 3, 3, 1, 4, 4, 4, 4, 4, 4, 3, 3, 1, 2, 6, 1, 2, 6, 2, 2, 6, 1, 4, 4, 4, 4, 3, 1, 5, 3, 4, 6, 4, 6, 6, 4, 3, 5, 3, 2, 2, 5, 6, 2, 1, 6, 6, 1, 4, 2, 5, 1, 5, 4, 4, 1, 5, 1, 6, 5, 4, 2, 5, 3, 3, 1, 6, 5, 3, 4, 2, 4, 6, 4, 3, 5, 1, 6, 6, 1, 3, 2, 5, 4, 5, 3, 4, 1, 4, 4, 3, 3, 3, 1, 5, 6, 4, 5, 5, 4, 6, 1, 3, 6, 5, 4, 3, 5, 3, 4, 6, 3, 3, 5, 2, 4, 3, 6, 5, 3, 2, 2, 4, 6, 4, 5, 2, 3, 4, 5, 2, 1, 2, 5, 5, 1, 4, 3, 3, 3, 1, 5, 6, 3, 3, 2, 4, 3, 5, 5, 2, 5, 3, 4, 4, 3, 1, 4, 4, 6, 3, 1, 4, 1, 6, 6, 2, 6, 1, 3, 1, 6, 5, 1, 1, 4, 5, 6, 2, 3, 1, 5, 6, 3, 4, 2, 2, 4, 1, 2, 3, 4, 1, 4, 1, 1, 6, 6, 3, 5, 3, 5, 3, 6, 3, 1, 4, 5, 6, 4, 2, 4, 1, 5, 2, 4, 2, 1, 3, 3, 6, 3, 4, 6, 1, 4, 4, 2, 5, 5, 3, 5, 2, 6, 4, 4, 1, 2, 1, 3, 1, 5, 4, 2, 3, 6, 2, 3, 6, 3, 5, 1, 4, 2, 6, 1, 3, 5, 6, 2, 2, 4, 3, 1, 3, 2, 1, 1, 2, 1, 5, 1, 4, 5, 1, 2, 1, 5, 3, 4, 3, 4, 4, 4, 5, 3, 6, 3, 1, 6, 3, 2, 5, 6, 4, 5, 4, 5, 1, 6, 6, 2, 3, 1, 6, 1, 2, 1, 3, 5, 5, 6, 5, 4, 4, 5, 5, 2, 3, 6, 3, 3, 3, 6, 5, 4, 5, 1, 4, 3, 2, 6, 6, 2, 2, 4, 3, 5, 6, 2, 5, 6, 4, 3, 5, 1, 3, 6, 6, 4, 1, 3, 6, 5, 5, 2, 5, 3, 5, 1, 5, 4, 6, 5, 4, 5, 3, 5, 2, 2, 3, 5, 4, 5, 1, 1, 3, 5, 6, 5, 1, 4, 1, 1, 3, 4, 5, 3, 5, 4, 1, 2, 6, 3, 2, 1, 6, 3, 5, 1, 1, 2, 3, 5, 5, 4, 3, 1, 3, 2, 2, 4, 2, 1, 5, 5, 2, 3, 2, 3, 1, 6, 4, 5, 6, 2, 6, 3, 6, 1, 3, 5, 2]\n"
     ]
    }
   ],
   "source": [
    "\n",
    "def frequency(n):\n",
    "\n",
    "    L=[]\n",
    "\n",
    "    for i in range(n):\n",
    "\n",
    "        L.append(np.random.randint(6)+1)\n",
    "\n",
    "    print(L)\n",
    "\n",
    "frequency(1000)"
   ]
  },
  {
   "cell_type": "code",
   "execution_count": 62,
   "id": "cd9842ba",
   "metadata": {},
   "outputs": [
    {
     "name": "stdout",
     "output_type": "stream",
     "text": [
      "[(1, 169), (2, 173), (3, 162), (4, 171), (5, 162), (6, 163)]\n"
     ]
    }
   ],
   "source": [
    "def frequency(n):\n",
    "    L=[]\n",
    "    freq={}\n",
    "    for i in range(n):\n",
    "        L.append(np.random.randint(6)+1)\n",
    "    for items in L:\n",
    "        freq [items] = freq.get(items,0)+1\n",
    "    return sorted(freq.items(), key = lambda x : x[0],reverse = False)\n",
    "\n",
    " \n",
    "\n",
    "print(frequency(1000))\n"
   ]
  },
  {
   "cell_type": "code",
   "execution_count": 63,
   "id": "1442635b",
   "metadata": {},
   "outputs": [
    {
     "data": {
      "text/plain": [
       "<BarContainer object of 6 artists>"
      ]
     },
     "execution_count": 63,
     "metadata": {},
     "output_type": "execute_result"
    },
    {
     "data": {
      "image/png": "[encoded data removed]",
      "text/plain": [
       "<Figure size 640x480 with 1 Axes>"
      ]
     },
     "metadata": {},
     "output_type": "display_data"
    }
   ],
   "source": [
    "all = frequency(100)\n",
    "x = []\n",
    "y = []\n",
    "for i in all:\n",
    "    x.append(i[0])\n",
    "    y.append(i[1])\n",
    "    \n",
    "import matplotlib.pyplot as plt\n",
    "plt.bar(x,y)"
   ]
  },
  {
   "cell_type": "markdown",
   "id": "ee7329db",
   "metadata": {},
   "source": [
    "# 4. The Newton-Raphson method is a way to quickly find a good approximation for the root of a real-valued function f(x) = 0 The formula is to find the root x_(n+1)=x_n-f(x_n )/(f^' (x_n ) ). Find the root of the equation x^2– 4x – 7 = 0 and x=5."
   ]
  },
  {
   "cell_type": "code",
   "execution_count": 65,
   "id": "663dcb18",
   "metadata": {},
   "outputs": [
    {
     "data": {
      "image/png": "[encoded data removed]",
      "text/plain": [
       "<Figure size 640x480 with 1 Axes>"
      ]
     },
     "metadata": {},
     "output_type": "display_data"
    }
   ],
   "source": [
    "def f(x):\n",
    "    return x**2-4*x-7\n",
    "\n",
    "def f_prime(x):\n",
    "    return 2*x-4\n",
    "\n",
    "x = np.linspace(-2,2,100)\n",
    "y = f(x)\n",
    "y_prime = f_prime(x)\n",
    "\n",
    "plt.plot(x,y)\n",
    "plt.grid()\n",
    "\n",
    "    "
   ]
  },
  {
   "cell_type": "code",
   "execution_count": null,
   "id": "e4b65bac",
   "metadata": {},
   "outputs": [],
   "source": []
  }
 ],
 "metadata": {
  "kernelspec": {
   "display_name": "Python 3 (ipykernel)",
   "language": "python",
   "name": "python3"
  },
  "language_info": {
   "codemirror_mode": {
    "name": "ipython",
    "version": 3
   },
   "file_extension": ".py",
   "mimetype": "text/x-python",
   "name": "python",
   "nbconvert_exporter": "python",
   "pygments_lexer": "ipython3",
   "version": "3.11.4"
  }
 },
 "nbformat": 4,
 "nbformat_minor": 5
}
