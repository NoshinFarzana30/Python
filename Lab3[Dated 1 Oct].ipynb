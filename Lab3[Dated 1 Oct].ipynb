{
 "cells": [
  {
   "cell_type": "markdown",
   "id": "fb395bd1",
   "metadata": {},
   "source": [
    "\n",
    "# Function"
   ]
  },
  {
   "cell_type": "code",
   "execution_count": 7,
   "id": "261c75ee",
   "metadata": {},
   "outputs": [
    {
     "name": "stdout",
     "output_type": "stream",
     "text": [
      "150\n"
     ]
    }
   ],
   "source": [
    "def SumList(L1):\n",
    "    s = 0\n",
    "    for i in range(len(L1)):\n",
    "        s = s+L1[i]\n",
    "        \n",
    "    return s\n",
    "\n",
    "\n",
    "List1=[10,20,30,40,50]\n",
    "sumList=SumList(List1)\n",
    "print(sumList)"
   ]
  },
  {
   "cell_type": "markdown",
   "id": "746ab726",
   "metadata": {},
   "source": [
    "# 10% increment of salary"
   ]
  },
  {
   "cell_type": "code",
   "execution_count": 17,
   "id": "67188cb2",
   "metadata": {},
   "outputs": [
    {
     "name": "stdout",
     "output_type": "stream",
     "text": [
      "[1100, 1320, 1650, 2090, 2200, 2750]\n"
     ]
    }
   ],
   "source": [
    "def reviw_salary(salary):\n",
    "    new_salary=[]\n",
    "    # 10% = 0.1 increment of salary\n",
    "    for i in range(len(salary)):\n",
    "        new_salary.append(int(salary[i]+salary[i]*0.1))\n",
    "\n",
    "    return new_salary\n",
    "\n",
    " \n",
    "\n",
    " \n",
    "\n",
    "salary=[1000,1200,1500,1900,2000,2500]\n",
    "newSalary=reviw_salary(salary)\n",
    "print(newSalary)"
   ]
  },
  {
   "cell_type": "markdown",
   "id": "c737bbd1",
   "metadata": {},
   "source": [
    "# Find 5 points between 0 and 1"
   ]
  },
  {
   "cell_type": "code",
   "execution_count": 31,
   "id": "ae4fbb3d",
   "metadata": {},
   "outputs": [
    {
     "name": "stdout",
     "output_type": "stream",
     "text": [
      "0.2\n",
      "[0, 0.2, 0.4, 0.6000000000000001, 0.8, 1]\n"
     ]
    }
   ],
   "source": [
    "def Linspace(lower,upper,n):\n",
    "    point= []\n",
    "    del_h = (upper-lower)/n\n",
    "    print(del_h)\n",
    "    point.append(lower)\n",
    "    for i in range(1,n):\n",
    "        point.append(point[i-1]+del_h)\n",
    "    point.append(upper)\n",
    "    return point\n",
    "    \n",
    "    \n",
    "xpoints = Linspace(0,1,5) #Find 5 points between 0 and 1\n",
    "print(xpoints)"
   ]
  },
  {
   "cell_type": "markdown",
   "id": "0805599d",
   "metadata": {},
   "source": [
    "# Find 50 points between -5 and 5"
   ]
  },
  {
   "cell_type": "code",
   "execution_count": 32,
   "id": "541de0bb",
   "metadata": {},
   "outputs": [
    {
     "name": "stdout",
     "output_type": "stream",
     "text": [
      "0.2\n",
      "[-5, -4.8, -4.6, -4.3999999999999995, -4.199999999999999, -3.999999999999999, -3.799999999999999, -3.5999999999999988, -3.3999999999999986, -3.1999999999999984, -2.9999999999999982, -2.799999999999998, -2.599999999999998, -2.3999999999999977, -2.1999999999999975, -1.9999999999999976, -1.7999999999999976, -1.5999999999999976, -1.3999999999999977, -1.1999999999999977, -0.9999999999999978, -0.7999999999999978, -0.5999999999999979, -0.39999999999999786, -0.19999999999999785, 2.1649348980190553e-15, 0.20000000000000218, 0.4000000000000022, 0.6000000000000022, 0.8000000000000023, 1.0000000000000022, 1.2000000000000022, 1.4000000000000021, 1.600000000000002, 1.800000000000002, 2.000000000000002, 2.2000000000000024, 2.4000000000000026, 2.6000000000000028, 2.800000000000003, 3.000000000000003, 3.2000000000000033, 3.4000000000000035, 3.6000000000000036, 3.800000000000004, 4.0000000000000036, 4.200000000000004, 4.400000000000004, 4.600000000000004, 4.800000000000004, 5]\n"
     ]
    }
   ],
   "source": [
    "def Linspace(lower,upper,n):\n",
    "    point= []\n",
    "    del_h = (upper-lower)/n\n",
    "    print(del_h)\n",
    "    point.append(lower)\n",
    "    for i in range(1,n):\n",
    "        point.append(point[i-1]+del_h)\n",
    "    point.append(upper)\n",
    "    return point\n",
    "    \n",
    "    \n",
    "xpoints = Linspace(-5,5,50) #Find 50 points between -5 and 5\n",
    "print(xpoints)"
   ]
  },
  {
   "cell_type": "markdown",
   "id": "83289709",
   "metadata": {},
   "source": [
    "# f(x) = x^2"
   ]
  },
  {
   "cell_type": "code",
   "execution_count": 33,
   "id": "0232769e",
   "metadata": {},
   "outputs": [
    {
     "name": "stdout",
     "output_type": "stream",
     "text": [
      "0.5\n",
      "[-5, -4.5, -4.0, -3.5, -3.0, -2.5, -2.0, -1.5, -1.0, -0.5, 0.0, 0.5, 1.0, 1.5, 2.0, 2.5, 3.0, 3.5, 4.0, 4.5, 5]\n",
      "[25, 20.25, 16.0, 12.25, 9.0, 6.25, 4.0, 2.25, 1.0, 0.25, 0.0, 0.25, 1.0, 2.25, 4.0, 6.25, 9.0, 12.25, 16.0, 20.25, 25]\n"
     ]
    }
   ],
   "source": [
    "def Linspace(lower,upper,n):\n",
    "    point= []\n",
    "    del_h = (upper-lower)/n\n",
    "    print(del_h)\n",
    "    point.append(lower)\n",
    "    for i in range(1,n):\n",
    "        point.append(point[i-1]+del_h)\n",
    "    point.append(upper)\n",
    "    return point\n",
    "    \n",
    "def f(x):\n",
    "    ypoint=[]\n",
    "    for i in range(len(x)):\n",
    "        ypoint.append(x[i]**2) # ** represents power \n",
    "    return ypoint\n",
    "\n",
    "xpoints = Linspace(-5,5,20)\n",
    "ypoints = f(xpoints)\n",
    "print(xpoints)\n",
    "print(ypoints)\n",
    "\n",
    "\n"
   ]
  },
  {
   "cell_type": "markdown",
   "id": "4ee3f0a7",
   "metadata": {},
   "source": [
    "# f(x) = x^3"
   ]
  },
  {
   "cell_type": "code",
   "execution_count": 30,
   "id": "fb491337",
   "metadata": {},
   "outputs": [
    {
     "name": "stdout",
     "output_type": "stream",
     "text": [
      "0.5\n",
      "[-5, -4.5, -4.0, -3.5, -3.0, -2.5, -2.0, -1.5, -1.0, -0.5, 0.0, 0.5, 1.0, 1.5, 2.0, 2.5, 3.0, 3.5, 4.0, 4.5, 5]\n",
      "[-125, -91.125, -64.0, -42.875, -27.0, -15.625, -8.0, -3.375, -1.0, -0.125, 0.0, 0.125, 1.0, 3.375, 8.0, 15.625, 27.0, 42.875, 64.0, 91.125, 125]\n"
     ]
    }
   ],
   "source": [
    "def Linspace(lower,upper,n):\n",
    "    point= []\n",
    "    del_h = (upper-lower)/n\n",
    "    print(del_h)\n",
    "    point.append(lower)\n",
    "    for i in range(1,n):\n",
    "        point.append(point[i-1]+del_h)\n",
    "    point.append(upper)\n",
    "    return point\n",
    "    \n",
    "def f(x):\n",
    "    ypoint=[]\n",
    "    for i in range(len(x)):\n",
    "        ypoint.append(x[i]**3) # power = **\n",
    "    return ypoint\n",
    "\n",
    "xpoints = Linspace(-5,5,20)\n",
    "ypoints = f(xpoints)\n",
    "print(xpoints)\n",
    "print(ypoints)"
   ]
  },
  {
   "cell_type": "markdown",
   "id": "11094435",
   "metadata": {},
   "source": [
    "# Left shift"
   ]
  },
  {
   "cell_type": "code",
   "execution_count": 42,
   "id": "ebfdabeb",
   "metadata": {},
   "outputs": [
    {
     "name": "stdout",
     "output_type": "stream",
     "text": [
      "[20, 30, 40, 50, 50]\n"
     ]
    }
   ],
   "source": [
    "def shiftLeft(L,k):\n",
    "    for i in range(1,len(L)):\n",
    "        L[i-1]=L[i]\n",
    "    \n",
    "    return L\n",
    "\n",
    "\n",
    "List1=[10,20,30,40,50]\n",
    "n_List=shiftLeft(List1,1)  # 1 ghor shift\n",
    "print(n_List)"
   ]
  },
  {
   "cell_type": "code",
   "execution_count": 45,
   "id": "151a88b6",
   "metadata": {},
   "outputs": [
    {
     "name": "stdout",
     "output_type": "stream",
     "text": [
      "[20, 0, 0, 0, 0]\n"
     ]
    }
   ],
   "source": [
    "def shiftLeft(L,k):\n",
    "    for i in range(1,len(L)):\n",
    "        L[i-1]=L[i]\n",
    "        \n",
    "    for i in range(len(L)-1,len(L)-1-k,-1):\n",
    "        L[i]=0 # 4 ghor shift hoye 0 diye replace\n",
    "    \n",
    "    \n",
    "    return L\n",
    "\n",
    "\n",
    "List1=[10,20,30,40,50]\n",
    "n_List=shiftLeft(List1,4)  \n",
    "print(n_List)"
   ]
  },
  {
   "cell_type": "code",
   "execution_count": 48,
   "id": "d23de491",
   "metadata": {},
   "outputs": [
    {
     "name": "stdout",
     "output_type": "stream",
     "text": [
      "[10, 20, 30, 40, 50, 60, 70, 80, 90, 100]\n",
      "[40, 50, 60, 70, 80, 90, 100, 0, 0, 0]\n"
     ]
    }
   ],
   "source": [
    "def shiftLeft(L,k):\n",
    "    for j in range(k):\n",
    "        for i in range(1,len(L)):\n",
    "            L[i-1]=L[i]\n",
    "            \n",
    "    for i in range(len(L)-1,len(L)-1-k,-1):\n",
    "        L[i]=0 # 3 ghor left shift hoye 0 diye replace\n",
    "    \n",
    "    return L\n",
    "\n",
    "\n",
    "List1=[10,20,30,40,50,60,70,80,90,100]\n",
    "print(List1)\n",
    "n_List=shiftLeft(List1,3) # 3 ghor shift\n",
    "print(n_List)"
   ]
  },
  {
   "cell_type": "markdown",
   "id": "5c8fbc22",
   "metadata": {},
   "source": [
    "# Linear Search"
   ]
  },
  {
   "cell_type": "code",
   "execution_count": 53,
   "id": "baee5a4a",
   "metadata": {},
   "outputs": [
    {
     "name": "stdout",
     "output_type": "stream",
     "text": [
      "Found in index 4: 50\n"
     ]
    }
   ],
   "source": [
    "def linearSearch(L,item):\n",
    "    for i in range(len(L)):\n",
    "        if(L[i] == item):\n",
    "            return i\n",
    "    return -1\n",
    "\n",
    "\n",
    "List=[10,20,30,40,50,60,70,80,90,100]\n",
    "index = linearSearch(List,50) # Find 50\n",
    "if(index==1):\n",
    "    print(\"Not Found\")\n",
    "else:\n",
    "    print(\"Found in index \" +str(index)+\": \"+str(List[index]))"
   ]
  },
  {
   "cell_type": "markdown",
   "id": "6dcd4c2e",
   "metadata": {},
   "source": [
    "# Math Library"
   ]
  },
  {
   "cell_type": "code",
   "execution_count": 55,
   "id": "c952451c",
   "metadata": {},
   "outputs": [
    {
     "name": "stdout",
     "output_type": "stream",
     "text": [
      "8.0\n"
     ]
    }
   ],
   "source": [
    "import math as m\n",
    "print(m.pow(2,3)) #2^3"
   ]
  },
  {
   "cell_type": "code",
   "execution_count": 57,
   "id": "104e7a9a",
   "metadata": {},
   "outputs": [
    {
     "name": "stdout",
     "output_type": "stream",
     "text": [
      "60.0\n"
     ]
    }
   ],
   "source": [
    "List =[10,20,30]\n",
    "print(m.fsum(List)) # sum of all the numbers in list"
   ]
  },
  {
   "cell_type": "code",
   "execution_count": 60,
   "id": "89038e98",
   "metadata": {},
   "outputs": [
    {
     "name": "stdout",
     "output_type": "stream",
     "text": [
      "7.38905609893065\n"
     ]
    }
   ],
   "source": [
    "import math\n",
    "print(math.exp(2))"
   ]
  },
  {
   "cell_type": "markdown",
   "id": "6f60712f",
   "metadata": {},
   "source": [
    "# NumPy"
   ]
  },
  {
   "cell_type": "code",
   "execution_count": 61,
   "id": "afc05d11",
   "metadata": {},
   "outputs": [
    {
     "name": "stdout",
     "output_type": "stream",
     "text": [
      "[10 20 30 40 50]\n"
     ]
    }
   ],
   "source": [
    "import numpy as np\n",
    "List=np.array([10,20,30,40,50])\n",
    "print(List)"
   ]
  },
  {
   "cell_type": "code",
   "execution_count": 63,
   "id": "7737bc4d",
   "metadata": {},
   "outputs": [
    {
     "name": "stdout",
     "output_type": "stream",
     "text": [
      "<class 'numpy.ndarray'>\n",
      "5\n"
     ]
    }
   ],
   "source": [
    "print(type(List))\n",
    "print(List.size)"
   ]
  },
  {
   "cell_type": "code",
   "execution_count": 65,
   "id": "4822606f",
   "metadata": {},
   "outputs": [
    {
     "name": "stdout",
     "output_type": "stream",
     "text": [
      "[[1, 2, 3, 4], [10, 20, 30, 40]]\n"
     ]
    }
   ],
   "source": [
    "List=[[1,2,3,4,],[10,20,30,40]]\n",
    "print(List)"
   ]
  },
  {
   "cell_type": "code",
   "execution_count": null,
   "id": "d7c6c183",
   "metadata": {},
   "outputs": [],
   "source": []
  }
 ],
 "metadata": {
  "kernelspec": {
   "display_name": "Python 3 (ipykernel)",
   "language": "python",
   "name": "python3"
  },
  "language_info": {
   "codemirror_mode": {
    "name": "ipython",
    "version": 3
   },
   "file_extension": ".py",
   "mimetype": "text/x-python",
   "name": "python",
   "nbconvert_exporter": "python",
   "pygments_lexer": "ipython3",
   "version": "3.11.4"
  }
 },
 "nbformat": 4,
 "nbformat_minor": 5
}
