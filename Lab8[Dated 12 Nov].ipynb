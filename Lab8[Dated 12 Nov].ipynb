{
 "cells": [
  {
   "cell_type": "markdown",
   "id": "f176fe41",
   "metadata": {},
   "source": [
    "# Adjacency Matrix for weighted Graph\n"
   ]
  },
  {
   "cell_type": "code",
   "execution_count": 7,
   "id": "e503ec1e",
   "metadata": {},
   "outputs": [
    {
     "name": "stdout",
     "output_type": "stream",
     "text": [
      "[[0, 1, 3], [0, 3, 7], [0, 4, 8], [1, 2, 1], [1, 3, 4], [2, 3, 2], [3, 4, 3]] 5 7\n",
      "[0, 3, 0, 7, 8]\n",
      "[3, 0, 1, 4, 0]\n",
      "[0, 1, 0, 2, 0]\n",
      "[7, 4, 2, 0, 3]\n",
      "[8, 0, 0, 3, 0]\n"
     ]
    }
   ],
   "source": [
    "def readGraphData(file):\n",
    "    f=open(file,\"r\")\n",
    "\n",
    "    graph=[]\n",
    "    vertex_and_edge=f.readline()\n",
    "    vertex = int(vertex_and_edge.split()[0])\n",
    "    edge = int(vertex_and_edge.split()[1])\n",
    "    for line in f.readlines():\n",
    "        row=[]\n",
    "        row.append(int(line.split()[0]))\n",
    "        row.append(int(line.split()[1]))\n",
    "        row.append(int(line.split()[2]))\n",
    "        graph.append(row)\n",
    "    return graph, vertex, edge\n",
    "\n",
    "\n",
    "def createMatrix(vertex):\n",
    "    adj=[]\n",
    "    for i in range(vertex):\n",
    "        row=[]\n",
    "        for j in range(vertex):\n",
    "            row.append(0)\n",
    "        adj.append(row)\n",
    "    return adj\n",
    "\n",
    "def printMatrix(M):\n",
    "    for i in M:\n",
    "        print(i,end=\"\\n\")\n",
    "\n",
    "\n",
    "def addEdges(graphData,Matrix):\n",
    "    for i in range(len(graphData)):\n",
    "        edge=graphData[i]\n",
    "        u=edge[0]\n",
    "        v=edge[1]\n",
    "        w=edge[2]\n",
    "        Matrix[u][v]=w\n",
    "        Matrix[v][u]=w\n",
    "    return Matrix\n",
    "\n",
    "data,v,e = readGraphData(\"weighted-graph.txt\")\n",
    "print(data,v,e)\n",
    "M= createMatrix(v)\n",
    "Matrix=addEdges(data,M)\n",
    "printMatrix(Matrix)\n",
    "    \n",
    "\n"
   ]
  },
  {
   "cell_type": "markdown",
   "id": "58ce5541",
   "metadata": {},
   "source": [
    "# Adjacency List for weighted Graph"
   ]
  },
  {
   "cell_type": "code",
   "execution_count": 3,
   "id": "a970274d",
   "metadata": {},
   "outputs": [
    {
     "name": "stdout",
     "output_type": "stream",
     "text": [
      "[[0, 1, 3], [0, 3, 7], [0, 4, 8], [1, 2, 1], [1, 3, 4], [2, 3, 2], [3, 4, 3]] 5 7\n",
      "0->  [(1, 3), (3, 7), (4, 8)]\n",
      "1->  [(0, 3), (2, 1), (3, 4)]\n",
      "2->  [(1, 1), (3, 2)]\n",
      "3->  [(0, 7), (1, 4), (2, 2), (4, 3)]\n",
      "4->  [(0, 8), (3, 3)]\n"
     ]
    }
   ],
   "source": [
    "def readGraphData(file):\n",
    "    f=open(file,\"r\")\n",
    "\n",
    "    graph=[]\n",
    "    vertex_and_edge=f.readline()\n",
    "    vertex = int(vertex_and_edge.split()[0])\n",
    "    edge = int(vertex_and_edge.split()[1])\n",
    "    for line in f.readlines():\n",
    "        row=[]\n",
    "        row.append(int(line.split()[0]))\n",
    "        row.append(int(line.split()[1]))\n",
    "        row.append(int(line.split()[2]))\n",
    "        graph.append(row)\n",
    "    return graph, vertex, edge\n",
    "\n",
    "def adjacencyList(data,vertex):\n",
    "    adj=dict()\n",
    "\n",
    "    for i in range(vertex):\n",
    "        adj[i]=[]\n",
    "    #print(adj)\n",
    "\n",
    "    for e in range(len(data)):\n",
    "        u=data[e][0]\n",
    "        v=data[e][1]\n",
    "        w=data[e][2]\n",
    "        adj[u].append((v,w))\n",
    "        adj[v].append((u,w))\n",
    "    return adj\n",
    "\n",
    "def printAdj(adj,vertex):\n",
    "    for i in range(vertex):\n",
    "        print(str(i)+\"-> \",end=\" \")\n",
    "        print(adj[i])\n",
    "    \n",
    "data,v,e = readGraphData(\"weighted-graph.txt\")\n",
    "print(data,v,e)\n",
    "adj=adjacencyList(data,v)\n",
    "printAdj(adj,v)"
   ]
  },
  {
   "cell_type": "markdown",
   "id": "10273b35",
   "metadata": {},
   "source": [
    "# Priority Queue"
   ]
  },
  {
   "cell_type": "code",
   "execution_count": 8,
   "id": "7f8ab30b",
   "metadata": {},
   "outputs": [
    {
     "name": "stdout",
     "output_type": "stream",
     "text": [
      "[1, 20, 19, 100, 1000]\n",
      "1\n",
      "19\n",
      "20\n",
      "100\n",
      "1000\n"
     ]
    }
   ],
   "source": [
    "import queue\n",
    "\n",
    "q =queue.PriorityQueue()\n",
    "\n",
    "q.put(100)\n",
    "q.put(1)\n",
    "q.put(19)\n",
    "q.put(20)\n",
    "q.put(1000)\n",
    "print(list(q.queue))\n",
    "\n",
    "while not q.empty():\n",
    "    print(q.get())"
   ]
  },
  {
   "cell_type": "code",
   "execution_count": 9,
   "id": "28ea9e60",
   "metadata": {},
   "outputs": [
    {
     "name": "stdout",
     "output_type": "stream",
     "text": [
      "[(1, 'K'), (100, 'A'), (5, 'B')]\n",
      "(1, 'K')\n",
      "(5, 'B')\n",
      "(100, 'A')\n"
     ]
    }
   ],
   "source": [
    "import queue\n",
    "\n",
    "q =queue.PriorityQueue()\n",
    "\n",
    "q.put((100,'A'))\n",
    "q.put((5,'B'))\n",
    "q.put((1,'K'))\n",
    "\n",
    "print(list(q.queue))\n",
    "\n",
    "while not q.empty():\n",
    "    print(q.get())"
   ]
  },
  {
   "cell_type": "code",
   "execution_count": 10,
   "id": "098997f9",
   "metadata": {},
   "outputs": [
    {
     "name": "stdout",
     "output_type": "stream",
     "text": [
      "[0, 'A']\n",
      "[1, 'B']\n",
      "[4, 'D']\n",
      "[5, 'C']\n",
      "[6, 'C']\n",
      "[8, 'E']\n",
      "The shortest path cost between A and E is 8.\n"
     ]
    }
   ],
   "source": [
    "\n",
    " \n",
    "class Graph:\n",
    "    def __init__(self):\n",
    "        self.edges = {}\n",
    " \n",
    "    def add_edge(self, node1, node2, cost):\n",
    "        if node1 not in self.edges:\n",
    "            self.edges[node1] = []\n",
    "        if node2 not in self.edges:\n",
    "            self.edges[node2] = []\n",
    " \n",
    "        self.edges[node1].append((node2, cost))\n",
    "        self.edges[node2].append((node1, cost))\n",
    "\n",
    "import queue\n",
    "\n",
    "def ucs(graph, start, goal):\n",
    "    q =queue.PriorityQueue()\n",
    "    \n",
    "    q.put((0, start))\n",
    "    visited = set()\n",
    " \n",
    "    while q:\n",
    "        costnode = list(q.get())\n",
    "        print(costnode)\n",
    "        cost = costnode[0]\n",
    "        node = costnode[1]\n",
    "        \n",
    "        if node == goal:\n",
    "            return cost\n",
    " \n",
    "        if node not in visited:\n",
    "            visited.add(node)\n",
    " \n",
    "            for neighbor, neighbor_cost in graph.edges[node]:\n",
    "                if neighbor not in visited:\n",
    "                    q.put((cost + neighbor_cost, neighbor))\n",
    " \n",
    "    return float('inf')\n",
    " \n",
    "# Example usage:\n",
    " \n",
    "# Create a graph\n",
    "graph = Graph()\n",
    " \n",
    "# Add edges to the graph\n",
    "graph.add_edge('A', 'B', 1)\n",
    "graph.add_edge('A', 'C', 5)\n",
    "graph.add_edge('B', 'D', 3)\n",
    "graph.add_edge('C', 'D', 2)\n",
    "graph.add_edge('C', 'E', 6)\n",
    "graph.add_edge('D', 'E', 4)\n",
    " \n",
    "# Find the shortest path and its cost between 'A' and 'E'\n",
    "start_node = 'A'\n",
    "goal_node = 'E'\n",
    "shortest_path_cost = ucs(graph, start_node, goal_node)\n",
    "print(f\"The shortest path cost between {start_node} and {goal_node} is {shortest_path_cost}.\")"
   ]
  },
  {
   "cell_type": "code",
   "execution_count": 12,
   "id": "abe62f77",
   "metadata": {},
   "outputs": [
    {
     "name": "stdout",
     "output_type": "stream",
     "text": [
      "5 7 [[0, 1, 3], [0, 3, 7], [0, 4, 8], [1, 2, 1], [1, 3, 4], [2, 3, 2], [3, 4, 3]]\n",
      "The shortest path cost between 0 and 2 is 4.\n"
     ]
    }
   ],
   "source": [
    "def readGraphData(file):\n",
    "    f=open(file,\"r\")\n",
    "\n",
    "    graph=[]\n",
    "    \n",
    "    vertexAndEdge=f.readline()\n",
    "    v = int(vertexAndEdge.split()[0])\n",
    "    e = int(vertexAndEdge.split()[1])\n",
    "    #print(vertexAndEdge)\n",
    "    \n",
    "    for line in f.readlines():\n",
    "        #print(line)\n",
    "        row=[]\n",
    "        row.append(int(line.split()[0]))\n",
    "        row.append(int(line.split()[1]))\n",
    "        row.append(int(line.split()[2]))\n",
    "        graph.append(row)\n",
    "    return v,e,graph\n",
    "\n",
    "\n",
    "def printList(vertex,adj):\n",
    "    for i in range(vertex):\n",
    "        print(str(i)+\"-> \",end=\" \")\n",
    "        print(adj[i])\n",
    "\n",
    "def adjacencyList(vertex,graph):\n",
    "    adj={}\n",
    "\n",
    "    for i in range(vertex):\n",
    "        adj[i]=[]\n",
    "\n",
    "    for e in range(len(graph)):\n",
    "        u=graph[e][0]\n",
    "        v=graph[e][1]\n",
    "        w=graph[e][2]\n",
    "        adj[u].append((v,w))\n",
    "        adj[v].append((u,w))\n",
    "    return adj\n",
    "\n",
    "import queue\n",
    "\n",
    "def ucs(graph, start, goal):\n",
    "    \n",
    "    q =queue.PriorityQueue()\n",
    "    \n",
    "    q.put((0, start))\n",
    "    visited = set()\n",
    " \n",
    "    while q:\n",
    "        costnode = list(q.get())\n",
    "        #print(costnode)\n",
    "        cost = costnode[0]\n",
    "        node = costnode[1]\n",
    "        \n",
    "        if node == goal:\n",
    "            return cost\n",
    " \n",
    "        if node not in visited:\n",
    "            visited.add(node)\n",
    " \n",
    "            for neighbor, neighbor_cost in graph[node]:\n",
    "                if neighbor not in visited:\n",
    "                    q.put((cost + neighbor_cost, neighbor))\n",
    " \n",
    "    return float('inf')\n",
    " \n",
    "\n",
    "vertex,edge,graph=readGraphData(\"weighted-graph.txt\")\n",
    "print(vertex,edge,graph)\n",
    "adj=adjacencyList(vertex,graph)\n",
    "#printList(vertex,adj)\n",
    "#print(adj)\n",
    "s = 0\n",
    "g = 2\n",
    "shortest_path_cost = ucs(adj, s, g)\n",
    "print(f\"The shortest path cost between {s} and {g} is {shortest_path_cost}.\")"
   ]
  },
  {
   "cell_type": "code",
   "execution_count": null,
   "id": "5c87f2a2",
   "metadata": {},
   "outputs": [],
   "source": []
  }
 ],
 "metadata": {
  "kernelspec": {
   "display_name": "Python 3 (ipykernel)",
   "language": "python",
   "name": "python3"
  },
  "language_info": {
   "codemirror_mode": {
    "name": "ipython",
    "version": 3
   },
   "file_extension": ".py",
   "mimetype": "text/x-python",
   "name": "python",
   "nbconvert_exporter": "python",
   "pygments_lexer": "ipython3",
   "version": "3.11.4"
  }
 },
 "nbformat": 4,
 "nbformat_minor": 5
}
