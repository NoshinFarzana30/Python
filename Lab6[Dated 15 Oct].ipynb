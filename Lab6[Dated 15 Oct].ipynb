{
 "cells": [
  {
   "cell_type": "markdown",
   "id": "7dd5b2ff",
   "metadata": {},
   "source": [
    "# Class and Object"
   ]
  },
  {
   "cell_type": "code",
   "execution_count": 14,
   "id": "58e68677",
   "metadata": {},
   "outputs": [
    {
     "name": "stdout",
     "output_type": "stream",
     "text": [
      "100 Richard\n",
      "200 Richard\n"
     ]
    }
   ],
   "source": [
    "class Person:\n",
    "    def __init__(self,Id,name): # init = Constructor\n",
    "        self.Id = Id # self = this keyword\n",
    "        self.name = name\n",
    "        \n",
    "    def getId(self):\n",
    "        return self.Id\n",
    "    def setId(self,Id):\n",
    "        self.Id = Id\n",
    "    def __str__(self):\n",
    "        return str(self.Id)+\" \"+self.name\n",
    "    \n",
    "p = Person(100, \"Richard\")\n",
    "print(p)\n",
    "p.setId(200)\n",
    "print(p)\n"
   ]
  },
  {
   "cell_type": "code",
   "execution_count": 21,
   "id": "cafd590a",
   "metadata": {},
   "outputs": [
    {
     "name": "stdout",
     "output_type": "stream",
     "text": [
      "100 Richard\n",
      "200 Richard\n",
      "200 Noshin\n",
      "200 Taposhi\n"
     ]
    }
   ],
   "source": [
    "class Person:\n",
    "    def __init__(self,Id,name):\n",
    "        self.Id = Id\n",
    "        self.name = name\n",
    "        \n",
    "    def getId(self):\n",
    "        return self.Id\n",
    "    def setId(self,Id):\n",
    "        self.Id = Id\n",
    "    def getname(self):\n",
    "        return self.name\n",
    "    def setname(self,name):\n",
    "        self.name = name\n",
    "    def __str__(self):\n",
    "        return str(self.Id)+\" \"+self.name\n",
    "    \n",
    "p = Person(100, \"Richard\")\n",
    "print(p)\n",
    "p.setId(200)\n",
    "print(p)\n",
    "p.setname(\"Noshin\")\n",
    "print(p)\n",
    "p.setname(\"Taposhi\")\n",
    "print(p)"
   ]
  },
  {
   "cell_type": "code",
   "execution_count": 13,
   "id": "20c1f9f0",
   "metadata": {},
   "outputs": [
    {
     "name": "stdout",
     "output_type": "stream",
     "text": [
      "100 Richard 3.8\n"
     ]
    }
   ],
   "source": [
    "class Student:\n",
    "    def __init__(self,Id,name,cgpa):\n",
    "        self.Id = Id\n",
    "        self.name = name\n",
    "        self.cgpa = cgpa\n",
    "        \n",
    "    \n",
    "    def __str__(self):\n",
    "        return str(self.Id)+\" \"+self.name+\" \"+str(self.cgpa)\n",
    "    \n",
    "s1 = Student(100, \"Richard\",3.8)\n",
    "print(s1)\n"
   ]
  },
  {
   "cell_type": "code",
   "execution_count": 20,
   "id": "3a879e1e",
   "metadata": {},
   "outputs": [
    {
     "name": "stdout",
     "output_type": "stream",
     "text": [
      "100 Richard 3.8\n",
      "99 Alamgir 4.0\n",
      "97 Noshin 3.97\n",
      "98 Taposhi 3.99\n"
     ]
    }
   ],
   "source": [
    "class Student:\n",
    "    def __init__(self,Id,name,cgpa):\n",
    "        self.Id = Id\n",
    "        self.name = name\n",
    "        self.cgpa = cgpa\n",
    "        \n",
    "    def getId(self):\n",
    "        return self.Id\n",
    "    def setId(self,Id):\n",
    "        self.Id = Id\n",
    "    def getname(self):\n",
    "        return self.name\n",
    "    def setname(self,name):\n",
    "        self.name = name\n",
    "    def getcgpa(self):\n",
    "        return self.cgpa\n",
    "    def setcgpa(self,cgpa):\n",
    "        self.cgpa = cgpa\n",
    "    \n",
    "    def __str__(self):\n",
    "        return str(self.Id)+\" \"+self.name+\" \"+str(self.cgpa)\n",
    "    \n",
    "s1 = Student(100, \"Richard\",3.8)\n",
    "print(s1)\n",
    "\n",
    "s1.setname(\"Alamgir\")\n",
    "s1.setId(99)\n",
    "s1.setcgpa(4.00)\n",
    "print(s1)\n",
    "\n",
    "s1.setname(\"Noshin\")\n",
    "s1.setId(97)\n",
    "s1.setcgpa(3.97)\n",
    "print(s1)\n",
    "\n",
    "s1.setname(\"Taposhi\")\n",
    "s1.setId(98)\n",
    "s1.setcgpa(3.99)\n",
    "print(s1)\n",
    "\n",
    "\n",
    "\n"
   ]
  },
  {
   "cell_type": "code",
   "execution_count": 26,
   "id": "aeedbd75",
   "metadata": {},
   "outputs": [
    {
     "name": "stdout",
     "output_type": "stream",
     "text": [
      "100 Richard 30000\n",
      "99 Niloy 40000\n",
      "97 Nahiyan 50000\n",
      "98 Tasha 70000\n"
     ]
    }
   ],
   "source": [
    "class Employee:\n",
    "    def __init__(self,Id,name,salary):\n",
    "        self.Id = Id\n",
    "        self.name = name\n",
    "        self.salary = salary\n",
    "        \n",
    "    def getId(self):\n",
    "        return self.Id\n",
    "    def setId(self,Id):\n",
    "        self.Id = Id\n",
    "    def getname(self):\n",
    "        return self.name\n",
    "    def setname(self,name):\n",
    "        self.name = name\n",
    "    def getsalary(self):\n",
    "        return self.salary\n",
    "    def setsalary(self,salary):\n",
    "        self.salary = salary\n",
    "    \n",
    "    def __str__(self):\n",
    "        return str(self.Id)+\" \"+self.name+\" \"+str(self.salary)\n",
    "    \n",
    "e1 = Employee(100, \"Richard\",30000)\n",
    "print(e1)\n",
    "\n",
    "e1.setname(\"Niloy\")\n",
    "e1.setId(99)\n",
    "e1.setsalary(40000)\n",
    "print(e1)\n",
    "\n",
    "e1.setname(\"Nahiyan\")\n",
    "e1.setId(97)\n",
    "e1.setsalary(50000)\n",
    "print(e1)\n",
    "\n",
    "e1.setname(\"Tasha\")\n",
    "e1.setId(98)\n",
    "e1.setsalary(70000)\n",
    "print(e1)\n",
    "\n",
    "\n"
   ]
  },
  {
   "cell_type": "markdown",
   "id": "a3034b02",
   "metadata": {},
   "source": [
    "# Stack"
   ]
  },
  {
   "cell_type": "code",
   "execution_count": 45,
   "id": "9c79c589",
   "metadata": {},
   "outputs": [
    {
     "name": "stdout",
     "output_type": "stream",
     "text": [
      "[10, 20, 30]\n",
      "30\n",
      "[10, 20]\n"
     ]
    }
   ],
   "source": [
    "stack=[]\n",
    "\n",
    "stack.append(10)\n",
    "stack.append(20)\n",
    "stack.append(30)\n",
    "\n",
    "print(stack)\n",
    "\n",
    "a = stack.pop()\n",
    "print(a)\n",
    "print(stack)\n"
   ]
  },
  {
   "cell_type": "code",
   "execution_count": 46,
   "id": "79e236b6",
   "metadata": {
    "scrolled": true
   },
   "outputs": [
    {
     "name": "stdout",
     "output_type": "stream",
     "text": [
      " 19 30 11 3 16\n"
     ]
    }
   ],
   "source": [
    "def __init__(self):\n",
    "    self.List=[]\n",
    "    self.size=0\n",
    "def __str__(self):\n",
    "    s = \"\"\n",
    "    for i in range(self.size):\n",
    "        s = s+\" \"+str(self.List[i])\n",
    "    return s\n",
    "\n",
    "def push(self,item):\n",
    "    self.List.append(item)\n",
    "    self.size=self.size+1\n",
    "\n",
    "s = Stack() \n",
    "s.push(19) \n",
    "s.push(30) \n",
    "s.push(11) \n",
    "s.push(3) \n",
    "s.push(16)\n",
    "\n",
    "print(s)\n"
   ]
  },
  {
   "cell_type": "code",
   "execution_count": null,
   "id": "c4750b3f",
   "metadata": {},
   "outputs": [],
   "source": []
  }
 ],
 "metadata": {
  "kernelspec": {
   "display_name": "Python 3 (ipykernel)",
   "language": "python",
   "name": "python3"
  },
  "language_info": {
   "codemirror_mode": {
    "name": "ipython",
    "version": 3
   },
   "file_extension": ".py",
   "mimetype": "text/x-python",
   "name": "python",
   "nbconvert_exporter": "python",
   "pygments_lexer": "ipython3",
   "version": "3.11.4"
  }
 },
 "nbformat": 4,
 "nbformat_minor": 5
}
