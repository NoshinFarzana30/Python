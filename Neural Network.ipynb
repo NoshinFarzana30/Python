{
 "cells": [
  {
   "cell_type": "code",
   "execution_count": 4,
   "id": "3231eac3",
   "metadata": {
    "scrolled": true
   },
   "outputs": [
    {
     "name": "stdout",
     "output_type": "stream",
     "text": [
      "Input Data: [0.5 0.1]\n",
      "Hidden Layer Activations: [0.52497919 0.53245431]\n",
      "Output: 0.6105432018743285\n"
     ]
    }
   ],
   "source": [
    "import numpy as np\n",
    "\n",
    "def sigmoid(x):\n",
    "    \n",
    "    return 1 / (1 + np.exp(-x))\n",
    "\n",
    "def forward_pass(inputs, weights_input_hidden, weights_hidden_output):\n",
    "   \n",
    "    hidden_layer_inputs = np.dot(inputs, weights_input_hidden)\n",
    "    hidden_layer_activations = sigmoid(hidden_layer_inputs)\n",
    "\n",
    "    \n",
    "    output_layer_inputs = np.dot(hidden_layer_activations, weights_hidden_output)\n",
    "    output = sigmoid(output_layer_inputs)\n",
    "\n",
    "    return output, hidden_layer_activations\n",
    "\n",
    "\n",
    "input_data = np.array([0.5, 0.1])\n",
    "weights_input_hidden = np.array([[0.15, 0.2], [0.25, 0.30]])\n",
    "weights_hidden_output = np.array([0.40, 0.45])\n",
    "\n",
    "\n",
    "output, hidden_layer_activations = forward_pass(input_data, weights_input_hidden, weights_hidden_output)\n",
    "\n",
    "\n",
    "print(\"Input Data:\", input_data)\n",
    "print(\"Hidden Layer Activations:\", hidden_layer_activations)\n",
    "print(\"Output:\", output)\n"
   ]
  },
  {
   "cell_type": "code",
   "execution_count": null,
   "id": "a636eb31",
   "metadata": {},
   "outputs": [],
   "source": []
  }
 ],
 "metadata": {
  "kernelspec": {
   "display_name": "Python 3 (ipykernel)",
   "language": "python",
   "name": "python3"
  },
  "language_info": {
   "codemirror_mode": {
    "name": "ipython",
    "version": 3
   },
   "file_extension": ".py",
   "mimetype": "text/x-python",
   "name": "python",
   "nbconvert_exporter": "python",
   "pygments_lexer": "ipython3",
   "version": "3.11.4"
  }
 },
 "nbformat": 4,
 "nbformat_minor": 5
}
